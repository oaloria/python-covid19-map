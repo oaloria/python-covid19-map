{
    "cells": [
        {
            "metadata": {},
            "cell_type": "code",
            "source": "import types\nimport pandas as pd\nfrom botocore.client import Config\nimport ibm_boto3\n\ndef __iter__(self): return 0\n\n# @hidden_cell\n# The following code accesses a file in your IBM Cloud Object Storage. It includes your credentials.\n# You might want to remove those credentials before you share the notebook.\nclient_6 = ibm_boto3.client(service_name='s3',\n    ibm_api_key_id='*',\n    ibm_auth_endpoint=\"https://iam.ng.bluemix.net/oidc/token\",\n    config=Config(signature_version='oauth'),\n    endpoint_url='https://s3-api.us-geo.objectstorage.service.networklayer.com')\n\nbody = client_6.get_object(Bucket='visualizations-donotdelete-pr-ejff7zcifd0rim',Key='covid_19_data.csv')['Body']\n# add missing __iter__ method, so pandas accepts body as file-like object\nif not hasattr(body, \"__iter__\"): body.__iter__ = types.MethodType( __iter__, body )\n\ndf = pd.read_csv(body)\n#df_data_1.head()\n",
            "execution_count": 9,
            "outputs": []
        },
        {
            "metadata": {},
            "cell_type": "code",
            "source": "import sys\n!{sys.executable} -m pip install plotly==4.7.1\n\n# Import libraries\nimport numpy as np\nimport pandas as pd\nimport plotly as py\nimport plotly.express as px\nimport plotly.graph_objs as go\nfrom plotly.subplots import make_subplots\nfrom plotly.offline import download_plotlyjs, init_notebook_mode, plot, iplot\n\ninit_notebook_mode(connected=True)\n\n# Rename columns\ndf = df.rename(columns={'Country/Region':'Country'})\ndf = df.rename(columns={'ObservationDate':'Date'})\n# Manipulate Dataframe\ndf_countries = df.groupby(['Country', 'Date']).sum().reset_index().sort_values('Date', ascending=False)\ndf_countries = df_countries.drop_duplicates(subset = ['Country'])\ndf_countries = df_countries[df_countries['Confirmed']>0]\n# Create the Choropleth\nfig = go.Figure(data=go.Choropleth(\n    locations = df_countries['Country'],\n    locationmode = 'country names',\n    z = df_countries['Confirmed'],\n    colorscale = 'Reds',\n    marker_line_color = 'black',\n    marker_line_width = 0.5,\n))\nfig.update_layout(\n    title_text = 'Confirmed Cases as of March 28, 2020',\n    title_x = 0.5,\n    geo=dict(\n        showframe = False,\n        showcoastlines = False,\n        projection_type = 'equirectangular'\n    )\n)",
            "execution_count": 11,
            "outputs": [
                {
                    "output_type": "stream",
                    "text": "Requirement already satisfied: plotly==4.7.1 in /opt/conda/envs/Python36/lib/python3.6/site-packages (4.7.1)\r\nRequirement already satisfied: retrying>=1.3.3 in /opt/conda/envs/Python36/lib/python3.6/site-packages (from plotly==4.7.1) (1.3.3)\r\nRequirement already satisfied: six in /opt/conda/envs/Python36/lib/python3.6/site-packages (from plotly==4.7.1) (1.12.0)\r\n",
                    "name": "stdout"
                },
                {
                    "output_type": "display_data",
                    "data": {
                        "text/html": "        <script type=\"text/javascript\">\n        window.PlotlyConfig = {MathJaxConfig: 'local'};\n        if (window.MathJax) {MathJax.Hub.Config({SVG: {font: \"STIX-Web\"}});}\n        if (typeof require !== 'undefined') {\n        require.undef(\"plotly\");\n        requirejs.config({\n            paths: {\n                'plotly': ['https://cdn.plot.ly/plotly-latest.min']\n            }\n        });\n        require(['plotly'], function(Plotly) {\n            window._Plotly = Plotly;\n        });\n        }\n        </script>\n        "
                    },
                    "metadata": {}
                },
                {
                    "output_type": "display_data",
                    "data": {
                        "application/vnd.plotly.v1+json": {
                            "config": {
                                "plotlyServerURL": "https://plot.ly"
                            },
                            "data": [
                                {
                                    "colorscale": [
                                        [
                                            0,
                                            "rgb(255,245,240)"
                                        ],
                                        [
                                            0.125,
                                            "rgb(254,224,210)"
                                        ],
                                        [
                                            0.25,
                                            "rgb(252,187,161)"
                                        ],
                                        [
                                            0.375,
                                            "rgb(252,146,114)"
                                        ],
                                        [
                                            0.5,
                                            "rgb(251,106,74)"
                                        ],
                                        [
                                            0.625,
                                            "rgb(239,59,44)"
                                        ],
                                        [
                                            0.75,
                                            "rgb(203,24,29)"
                                        ],
                                        [
                                            0.875,
                                            "rgb(165,15,21)"
                                        ],
                                        [
                                            1,
                                            "rgb(103,0,13)"
                                        ]
                                    ],
                                    "locationmode": "country names",
                                    "locations": [
                                        "Ecuador",
                                        "New Zealand",
                                        "Namibia",
                                        "South Africa",
                                        "Dominica",
                                        "Djibouti",
                                        "Sweden",
                                        "Diamond Princess",
                                        "Nepal",
                                        "Denmark",
                                        "Uganda",
                                        "Czech Republic",
                                        "Netherlands",
                                        "Somalia",
                                        "Cyprus",
                                        "Cuba",
                                        "Mozambique",
                                        "Nicaragua",
                                        "Croatia",
                                        "Costa Rica",
                                        "Niger",
                                        "Ukraine",
                                        "Congo (Kinshasa)",
                                        "Nigeria",
                                        "Congo (Brazzaville)",
                                        "Comoros",
                                        "Algeria",
                                        "Colombia",
                                        "Zambia",
                                        "North Macedonia",
                                        "Dominican Republic",
                                        "Angola",
                                        "Malta",
                                        "South Korea",
                                        "Tunisia",
                                        "Gambia",
                                        "Mauritania",
                                        "Gabon",
                                        "Mauritius",
                                        "South Sudan",
                                        "France",
                                        "Turkey",
                                        "Mexico",
                                        "Finland",
                                        "Fiji",
                                        "Moldova",
                                        "Albania",
                                        "UK",
                                        "US",
                                        "Ethiopia",
                                        "Monaco",
                                        "Eswatini",
                                        "Estonia",
                                        "Mongolia",
                                        "Eritrea",
                                        "Montenegro",
                                        "Equatorial Guinea",
                                        "El Salvador",
                                        "Morocco",
                                        "Egypt",
                                        "Senegal",
                                        "Sao Tome and Principe",
                                        "Slovenia",
                                        "Chile",
                                        "Chad",
                                        "Bahrain",
                                        "Andorra",
                                        "Benin",
                                        "Belize",
                                        "Portugal",
                                        "Belgium",
                                        "Belarus",
                                        "Qatar",
                                        "Seychelles",
                                        "Vietnam",
                                        "Barbados",
                                        "Bangladesh",
                                        "Romania",
                                        "Serbia",
                                        "Bahamas",
                                        "Norway",
                                        "Russia",
                                        "Azerbaijan",
                                        "West Bank and Gaza",
                                        "Austria",
                                        "Rwanda",
                                        "Australia",
                                        "Western Sahara",
                                        "Saint Kitts and Nevis",
                                        "Yemen",
                                        "Armenia",
                                        "Saint Lucia",
                                        "Argentina",
                                        "Antigua and Barbuda",
                                        "Venezuela",
                                        "Poland",
                                        "Bhutan",
                                        "Sierra Leone",
                                        "Central African Republic",
                                        "Canada",
                                        "Oman",
                                        "United Arab Emirates",
                                        "Slovakia",
                                        "Cameroon",
                                        "Cambodia",
                                        "Pakistan",
                                        "San Marino",
                                        "Uruguay",
                                        "Cabo Verde",
                                        "Panama",
                                        "Burundi",
                                        "Burma",
                                        "Burkina Faso",
                                        "Papua New Guinea",
                                        "Bulgaria",
                                        "Paraguay",
                                        "Uzbekistan",
                                        "Brunei",
                                        "Peru",
                                        "Singapore",
                                        "Brazil",
                                        "Botswana",
                                        "Bosnia and Herzegovina",
                                        "Bolivia",
                                        "Philippines",
                                        "Georgia",
                                        "Saint Vincent and the Grenadines",
                                        "Ivory Coast",
                                        "Saudi Arabia",
                                        "Lebanon",
                                        "Macau",
                                        "Honduras",
                                        "Italy",
                                        "Afghanistan",
                                        "Syria",
                                        "Madagascar",
                                        "Sri Lanka",
                                        "Holy See",
                                        "Haiti",
                                        "Latvia",
                                        "Guyana",
                                        "Mainland China",
                                        "Guinea-Bissau",
                                        "Jamaica",
                                        "Guinea",
                                        "Switzerland",
                                        "Malawi",
                                        "Japan",
                                        "Timor-Leste",
                                        "Lesotho",
                                        "Israel",
                                        "Ireland",
                                        "Suriname",
                                        "Liechtenstein",
                                        "Tanzania",
                                        "Indonesia",
                                        "Iraq",
                                        "Libya",
                                        "Lithuania",
                                        "India",
                                        "Luxembourg",
                                        "Hong Kong",
                                        "Thailand",
                                        "Tajikistan",
                                        "Iceland",
                                        "Taiwan",
                                        "MS Zaandam",
                                        "Sudan",
                                        "Liberia",
                                        "Hungary",
                                        "Spain",
                                        "Iran",
                                        "Greece",
                                        "Togo",
                                        "Germany",
                                        "Kenya",
                                        "Jordan",
                                        "Guatemala",
                                        "Malaysia",
                                        "Kosovo",
                                        "Mali",
                                        "Kyrgyzstan",
                                        "Ghana",
                                        "Grenada",
                                        "Kuwait",
                                        "Laos",
                                        "Maldives",
                                        "Trinidad and Tobago",
                                        "Kazakhstan",
                                        "Zimbabwe",
                                        "Others",
                                        "Martinique",
                                        "Bahamas, The",
                                        "Gambia, The",
                                        "Mayotte",
                                        "Guadeloupe",
                                        "French Guiana",
                                        "East Timor",
                                        "Cape Verde",
                                        "Reunion",
                                        "Aruba",
                                        "Curacao",
                                        "Cayman Islands",
                                        "('St. Martin',)",
                                        "Gibraltar",
                                        "Faroe Islands",
                                        "Channel Islands",
                                        "Saint Barthelemy",
                                        "Vatican City",
                                        "St. Martin",
                                        "Palestine",
                                        "Republic of Ireland",
                                        " Azerbaijan",
                                        "North Ireland"
                                    ],
                                    "marker": {
                                        "line": {
                                            "color": "black",
                                            "width": 0.5
                                        }
                                    },
                                    "type": "choropleth",
                                    "z": [
                                        32763,
                                        1499,
                                        16,
                                        14355,
                                        16,
                                        1331,
                                        29677,
                                        712,
                                        291,
                                        11056,
                                        227,
                                        8455,
                                        44070,
                                        1357,
                                        914,
                                        1862,
                                        129,
                                        25,
                                        2224,
                                        853,
                                        889,
                                        17858,
                                        1455,
                                        5621,
                                        391,
                                        11,
                                        6821,
                                        14939,
                                        679,
                                        1762,
                                        12110,
                                        48,
                                        546,
                                        11050,
                                        1037,
                                        23,
                                        40,
                                        1320,
                                        332,
                                        236,
                                        179630,
                                        148067,
                                        47144,
                                        6286,
                                        18,
                                        5934,
                                        933,
                                        241461,
                                        1467820,
                                        306,
                                        96,
                                        202,
                                        1770,
                                        135,
                                        39,
                                        324,
                                        594,
                                        1265,
                                        6741,
                                        11719,
                                        2429,
                                        235,
                                        1465,
                                        41428,
                                        474,
                                        6747,
                                        761,
                                        339,
                                        18,
                                        28810,
                                        54989,
                                        28681,
                                        30972,
                                        11,
                                        318,
                                        86,
                                        20995,
                                        16704,
                                        10496,
                                        96,
                                        8237,
                                        272043,
                                        3138,
                                        376,
                                        16201,
                                        289,
                                        7044,
                                        6,
                                        15,
                                        122,
                                        4283,
                                        18,
                                        7805,
                                        25,
                                        504,
                                        18257,
                                        21,
                                        462,
                                        327,
                                        77206,
                                        5029,
                                        22627,
                                        1493,
                                        3105,
                                        122,
                                        38799,
                                        653,
                                        733,
                                        328,
                                        9449,
                                        15,
                                        182,
                                        782,
                                        8,
                                        2175,
                                        778,
                                        2738,
                                        141,
                                        88541,
                                        27356,
                                        233511,
                                        24,
                                        2267,
                                        3826,
                                        12305,
                                        683,
                                        17,
                                        2061,
                                        52016,
                                        902,
                                        45,
                                        2565,
                                        224760,
                                        6402,
                                        51,
                                        283,
                                        960,
                                        12,
                                        358,
                                        997,
                                        117,
                                        82947,
                                        969,
                                        517,
                                        2658,
                                        30572,
                                        65,
                                        16237,
                                        24,
                                        1,
                                        16608,
                                        24048,
                                        10,
                                        82,
                                        509,
                                        17025,
                                        3260,
                                        65,
                                        1534,
                                        90648,
                                        3930,
                                        1052,
                                        3025,
                                        1322,
                                        1802,
                                        440,
                                        9,
                                        2289,
                                        223,
                                        3473,
                                        230698,
                                        118392,
                                        2819,
                                        298,
                                        175752,
                                        830,
                                        607,
                                        1763,
                                        6872,
                                        944,
                                        835,
                                        1117,
                                        5735,
                                        22,
                                        13802,
                                        19,
                                        1078,
                                        116,
                                        5850,
                                        42,
                                        712,
                                        32,
                                        4,
                                        1,
                                        7,
                                        53,
                                        18,
                                        1,
                                        1,
                                        45,
                                        4,
                                        1,
                                        1,
                                        2,
                                        1,
                                        2,
                                        1,
                                        1,
                                        1,
                                        2,
                                        22,
                                        21,
                                        1,
                                        1
                                    ]
                                }
                            ],
                            "layout": {
                                "geo": {
                                    "projection": {
                                        "type": "equirectangular"
                                    },
                                    "showcoastlines": false,
                                    "showframe": false
                                },
                                "template": {
                                    "data": {
                                        "bar": [
                                            {
                                                "error_x": {
                                                    "color": "#2a3f5f"
                                                },
                                                "error_y": {
                                                    "color": "#2a3f5f"
                                                },
                                                "marker": {
                                                    "line": {
                                                        "color": "#E5ECF6",
                                                        "width": 0.5
                                                    }
                                                },
                                                "type": "bar"
                                            }
                                        ],
                                        "barpolar": [
                                            {
                                                "marker": {
                                                    "line": {
                                                        "color": "#E5ECF6",
                                                        "width": 0.5
                                                    }
                                                },
                                                "type": "barpolar"
                                            }
                                        ],
                                        "carpet": [
                                            {
                                                "aaxis": {
                                                    "endlinecolor": "#2a3f5f",
                                                    "gridcolor": "white",
                                                    "linecolor": "white",
                                                    "minorgridcolor": "white",
                                                    "startlinecolor": "#2a3f5f"
                                                },
                                                "baxis": {
                                                    "endlinecolor": "#2a3f5f",
                                                    "gridcolor": "white",
                                                    "linecolor": "white",
                                                    "minorgridcolor": "white",
                                                    "startlinecolor": "#2a3f5f"
                                                },
                                                "type": "carpet"
                                            }
                                        ],
                                        "choropleth": [
                                            {
                                                "colorbar": {
                                                    "outlinewidth": 0,
                                                    "ticks": ""
                                                },
                                                "type": "choropleth"
                                            }
                                        ],
                                        "contour": [
                                            {
                                                "colorbar": {
                                                    "outlinewidth": 0,
                                                    "ticks": ""
                                                },
                                                "colorscale": [
                                                    [
                                                        0,
                                                        "#0d0887"
                                                    ],
                                                    [
                                                        0.1111111111111111,
                                                        "#46039f"
                                                    ],
                                                    [
                                                        0.2222222222222222,
                                                        "#7201a8"
                                                    ],
                                                    [
                                                        0.3333333333333333,
                                                        "#9c179e"
                                                    ],
                                                    [
                                                        0.4444444444444444,
                                                        "#bd3786"
                                                    ],
                                                    [
                                                        0.5555555555555556,
                                                        "#d8576b"
                                                    ],
                                                    [
                                                        0.6666666666666666,
                                                        "#ed7953"
                                                    ],
                                                    [
                                                        0.7777777777777778,
                                                        "#fb9f3a"
                                                    ],
                                                    [
                                                        0.8888888888888888,
                                                        "#fdca26"
                                                    ],
                                                    [
                                                        1,
                                                        "#f0f921"
                                                    ]
                                                ],
                                                "type": "contour"
                                            }
                                        ],
                                        "contourcarpet": [
                                            {
                                                "colorbar": {
                                                    "outlinewidth": 0,
                                                    "ticks": ""
                                                },
                                                "type": "contourcarpet"
                                            }
                                        ],
                                        "heatmap": [
                                            {
                                                "colorbar": {
                                                    "outlinewidth": 0,
                                                    "ticks": ""
                                                },
                                                "colorscale": [
                                                    [
                                                        0,
                                                        "#0d0887"
                                                    ],
                                                    [
                                                        0.1111111111111111,
                                                        "#46039f"
                                                    ],
                                                    [
                                                        0.2222222222222222,
                                                        "#7201a8"
                                                    ],
                                                    [
                                                        0.3333333333333333,
                                                        "#9c179e"
                                                    ],
                                                    [
                                                        0.4444444444444444,
                                                        "#bd3786"
                                                    ],
                                                    [
                                                        0.5555555555555556,
                                                        "#d8576b"
                                                    ],
                                                    [
                                                        0.6666666666666666,
                                                        "#ed7953"
                                                    ],
                                                    [
                                                        0.7777777777777778,
                                                        "#fb9f3a"
                                                    ],
                                                    [
                                                        0.8888888888888888,
                                                        "#fdca26"
                                                    ],
                                                    [
                                                        1,
                                                        "#f0f921"
                                                    ]
                                                ],
                                                "type": "heatmap"
                                            }
                                        ],
                                        "heatmapgl": [
                                            {
                                                "colorbar": {
                                                    "outlinewidth": 0,
                                                    "ticks": ""
                                                },
                                                "colorscale": [
                                                    [
                                                        0,
                                                        "#0d0887"
                                                    ],
                                                    [
                                                        0.1111111111111111,
                                                        "#46039f"
                                                    ],
                                                    [
                                                        0.2222222222222222,
                                                        "#7201a8"
                                                    ],
                                                    [
                                                        0.3333333333333333,
                                                        "#9c179e"
                                                    ],
                                                    [
                                                        0.4444444444444444,
                                                        "#bd3786"
                                                    ],
                                                    [
                                                        0.5555555555555556,
                                                        "#d8576b"
                                                    ],
                                                    [
                                                        0.6666666666666666,
                                                        "#ed7953"
                                                    ],
                                                    [
                                                        0.7777777777777778,
                                                        "#fb9f3a"
                                                    ],
                                                    [
                                                        0.8888888888888888,
                                                        "#fdca26"
                                                    ],
                                                    [
                                                        1,
                                                        "#f0f921"
                                                    ]
                                                ],
                                                "type": "heatmapgl"
                                            }
                                        ],
                                        "histogram": [
                                            {
                                                "marker": {
                                                    "colorbar": {
                                                        "outlinewidth": 0,
                                                        "ticks": ""
                                                    }
                                                },
                                                "type": "histogram"
                                            }
                                        ],
                                        "histogram2d": [
                                            {
                                                "colorbar": {
                                                    "outlinewidth": 0,
                                                    "ticks": ""
                                                },
                                                "colorscale": [
                                                    [
                                                        0,
                                                        "#0d0887"
                                                    ],
                                                    [
                                                        0.1111111111111111,
                                                        "#46039f"
                                                    ],
                                                    [
                                                        0.2222222222222222,
                                                        "#7201a8"
                                                    ],
                                                    [
                                                        0.3333333333333333,
                                                        "#9c179e"
                                                    ],
                                                    [
                                                        0.4444444444444444,
                                                        "#bd3786"
                                                    ],
                                                    [
                                                        0.5555555555555556,
                                                        "#d8576b"
                                                    ],
                                                    [
                                                        0.6666666666666666,
                                                        "#ed7953"
                                                    ],
                                                    [
                                                        0.7777777777777778,
                                                        "#fb9f3a"
                                                    ],
                                                    [
                                                        0.8888888888888888,
                                                        "#fdca26"
                                                    ],
                                                    [
                                                        1,
                                                        "#f0f921"
                                                    ]
                                                ],
                                                "type": "histogram2d"
                                            }
                                        ],
                                        "histogram2dcontour": [
                                            {
                                                "colorbar": {
                                                    "outlinewidth": 0,
                                                    "ticks": ""
                                                },
                                                "colorscale": [
                                                    [
                                                        0,
                                                        "#0d0887"
                                                    ],
                                                    [
                                                        0.1111111111111111,
                                                        "#46039f"
                                                    ],
                                                    [
                                                        0.2222222222222222,
                                                        "#7201a8"
                                                    ],
                                                    [
                                                        0.3333333333333333,
                                                        "#9c179e"
                                                    ],
                                                    [
                                                        0.4444444444444444,
                                                        "#bd3786"
                                                    ],
                                                    [
                                                        0.5555555555555556,
                                                        "#d8576b"
                                                    ],
                                                    [
                                                        0.6666666666666666,
                                                        "#ed7953"
                                                    ],
                                                    [
                                                        0.7777777777777778,
                                                        "#fb9f3a"
                                                    ],
                                                    [
                                                        0.8888888888888888,
                                                        "#fdca26"
                                                    ],
                                                    [
                                                        1,
                                                        "#f0f921"
                                                    ]
                                                ],
                                                "type": "histogram2dcontour"
                                            }
                                        ],
                                        "mesh3d": [
                                            {
                                                "colorbar": {
                                                    "outlinewidth": 0,
                                                    "ticks": ""
                                                },
                                                "type": "mesh3d"
                                            }
                                        ],
                                        "parcoords": [
                                            {
                                                "line": {
                                                    "colorbar": {
                                                        "outlinewidth": 0,
                                                        "ticks": ""
                                                    }
                                                },
                                                "type": "parcoords"
                                            }
                                        ],
                                        "pie": [
                                            {
                                                "automargin": true,
                                                "type": "pie"
                                            }
                                        ],
                                        "scatter": [
                                            {
                                                "marker": {
                                                    "colorbar": {
                                                        "outlinewidth": 0,
                                                        "ticks": ""
                                                    }
                                                },
                                                "type": "scatter"
                                            }
                                        ],
                                        "scatter3d": [
                                            {
                                                "line": {
                                                    "colorbar": {
                                                        "outlinewidth": 0,
                                                        "ticks": ""
                                                    }
                                                },
                                                "marker": {
                                                    "colorbar": {
                                                        "outlinewidth": 0,
                                                        "ticks": ""
                                                    }
                                                },
                                                "type": "scatter3d"
                                            }
                                        ],
                                        "scattercarpet": [
                                            {
                                                "marker": {
                                                    "colorbar": {
                                                        "outlinewidth": 0,
                                                        "ticks": ""
                                                    }
                                                },
                                                "type": "scattercarpet"
                                            }
                                        ],
                                        "scattergeo": [
                                            {
                                                "marker": {
                                                    "colorbar": {
                                                        "outlinewidth": 0,
                                                        "ticks": ""
                                                    }
                                                },
                                                "type": "scattergeo"
                                            }
                                        ],
                                        "scattergl": [
                                            {
                                                "marker": {
                                                    "colorbar": {
                                                        "outlinewidth": 0,
                                                        "ticks": ""
                                                    }
                                                },
                                                "type": "scattergl"
                                            }
                                        ],
                                        "scattermapbox": [
                                            {
                                                "marker": {
                                                    "colorbar": {
                                                        "outlinewidth": 0,
                                                        "ticks": ""
                                                    }
                                                },
                                                "type": "scattermapbox"
                                            }
                                        ],
                                        "scatterpolar": [
                                            {
                                                "marker": {
                                                    "colorbar": {
                                                        "outlinewidth": 0,
                                                        "ticks": ""
                                                    }
                                                },
                                                "type": "scatterpolar"
                                            }
                                        ],
                                        "scatterpolargl": [
                                            {
                                                "marker": {
                                                    "colorbar": {
                                                        "outlinewidth": 0,
                                                        "ticks": ""
                                                    }
                                                },
                                                "type": "scatterpolargl"
                                            }
                                        ],
                                        "scatterternary": [
                                            {
                                                "marker": {
                                                    "colorbar": {
                                                        "outlinewidth": 0,
                                                        "ticks": ""
                                                    }
                                                },
                                                "type": "scatterternary"
                                            }
                                        ],
                                        "surface": [
                                            {
                                                "colorbar": {
                                                    "outlinewidth": 0,
                                                    "ticks": ""
                                                },
                                                "colorscale": [
                                                    [
                                                        0,
                                                        "#0d0887"
                                                    ],
                                                    [
                                                        0.1111111111111111,
                                                        "#46039f"
                                                    ],
                                                    [
                                                        0.2222222222222222,
                                                        "#7201a8"
                                                    ],
                                                    [
                                                        0.3333333333333333,
                                                        "#9c179e"
                                                    ],
                                                    [
                                                        0.4444444444444444,
                                                        "#bd3786"
                                                    ],
                                                    [
                                                        0.5555555555555556,
                                                        "#d8576b"
                                                    ],
                                                    [
                                                        0.6666666666666666,
                                                        "#ed7953"
                                                    ],
                                                    [
                                                        0.7777777777777778,
                                                        "#fb9f3a"
                                                    ],
                                                    [
                                                        0.8888888888888888,
                                                        "#fdca26"
                                                    ],
                                                    [
                                                        1,
                                                        "#f0f921"
                                                    ]
                                                ],
                                                "type": "surface"
                                            }
                                        ],
                                        "table": [
                                            {
                                                "cells": {
                                                    "fill": {
                                                        "color": "#EBF0F8"
                                                    },
                                                    "line": {
                                                        "color": "white"
                                                    }
                                                },
                                                "header": {
                                                    "fill": {
                                                        "color": "#C8D4E3"
                                                    },
                                                    "line": {
                                                        "color": "white"
                                                    }
                                                },
                                                "type": "table"
                                            }
                                        ]
                                    },
                                    "layout": {
                                        "annotationdefaults": {
                                            "arrowcolor": "#2a3f5f",
                                            "arrowhead": 0,
                                            "arrowwidth": 1
                                        },
                                        "coloraxis": {
                                            "colorbar": {
                                                "outlinewidth": 0,
                                                "ticks": ""
                                            }
                                        },
                                        "colorscale": {
                                            "diverging": [
                                                [
                                                    0,
                                                    "#8e0152"
                                                ],
                                                [
                                                    0.1,
                                                    "#c51b7d"
                                                ],
                                                [
                                                    0.2,
                                                    "#de77ae"
                                                ],
                                                [
                                                    0.3,
                                                    "#f1b6da"
                                                ],
                                                [
                                                    0.4,
                                                    "#fde0ef"
                                                ],
                                                [
                                                    0.5,
                                                    "#f7f7f7"
                                                ],
                                                [
                                                    0.6,
                                                    "#e6f5d0"
                                                ],
                                                [
                                                    0.7,
                                                    "#b8e186"
                                                ],
                                                [
                                                    0.8,
                                                    "#7fbc41"
                                                ],
                                                [
                                                    0.9,
                                                    "#4d9221"
                                                ],
                                                [
                                                    1,
                                                    "#276419"
                                                ]
                                            ],
                                            "sequential": [
                                                [
                                                    0,
                                                    "#0d0887"
                                                ],
                                                [
                                                    0.1111111111111111,
                                                    "#46039f"
                                                ],
                                                [
                                                    0.2222222222222222,
                                                    "#7201a8"
                                                ],
                                                [
                                                    0.3333333333333333,
                                                    "#9c179e"
                                                ],
                                                [
                                                    0.4444444444444444,
                                                    "#bd3786"
                                                ],
                                                [
                                                    0.5555555555555556,
                                                    "#d8576b"
                                                ],
                                                [
                                                    0.6666666666666666,
                                                    "#ed7953"
                                                ],
                                                [
                                                    0.7777777777777778,
                                                    "#fb9f3a"
                                                ],
                                                [
                                                    0.8888888888888888,
                                                    "#fdca26"
                                                ],
                                                [
                                                    1,
                                                    "#f0f921"
                                                ]
                                            ],
                                            "sequentialminus": [
                                                [
                                                    0,
                                                    "#0d0887"
                                                ],
                                                [
                                                    0.1111111111111111,
                                                    "#46039f"
                                                ],
                                                [
                                                    0.2222222222222222,
                                                    "#7201a8"
                                                ],
                                                [
                                                    0.3333333333333333,
                                                    "#9c179e"
                                                ],
                                                [
                                                    0.4444444444444444,
                                                    "#bd3786"
                                                ],
                                                [
                                                    0.5555555555555556,
                                                    "#d8576b"
                                                ],
                                                [
                                                    0.6666666666666666,
                                                    "#ed7953"
                                                ],
                                                [
                                                    0.7777777777777778,
                                                    "#fb9f3a"
                                                ],
                                                [
                                                    0.8888888888888888,
                                                    "#fdca26"
                                                ],
                                                [
                                                    1,
                                                    "#f0f921"
                                                ]
                                            ]
                                        },
                                        "colorway": [
                                            "#636efa",
                                            "#EF553B",
                                            "#00cc96",
                                            "#ab63fa",
                                            "#FFA15A",
                                            "#19d3f3",
                                            "#FF6692",
                                            "#B6E880",
                                            "#FF97FF",
                                            "#FECB52"
                                        ],
                                        "font": {
                                            "color": "#2a3f5f"
                                        },
                                        "geo": {
                                            "bgcolor": "white",
                                            "lakecolor": "white",
                                            "landcolor": "#E5ECF6",
                                            "showlakes": true,
                                            "showland": true,
                                            "subunitcolor": "white"
                                        },
                                        "hoverlabel": {
                                            "align": "left"
                                        },
                                        "hovermode": "closest",
                                        "mapbox": {
                                            "style": "light"
                                        },
                                        "paper_bgcolor": "white",
                                        "plot_bgcolor": "#E5ECF6",
                                        "polar": {
                                            "angularaxis": {
                                                "gridcolor": "white",
                                                "linecolor": "white",
                                                "ticks": ""
                                            },
                                            "bgcolor": "#E5ECF6",
                                            "radialaxis": {
                                                "gridcolor": "white",
                                                "linecolor": "white",
                                                "ticks": ""
                                            }
                                        },
                                        "scene": {
                                            "xaxis": {
                                                "backgroundcolor": "#E5ECF6",
                                                "gridcolor": "white",
                                                "gridwidth": 2,
                                                "linecolor": "white",
                                                "showbackground": true,
                                                "ticks": "",
                                                "zerolinecolor": "white"
                                            },
                                            "yaxis": {
                                                "backgroundcolor": "#E5ECF6",
                                                "gridcolor": "white",
                                                "gridwidth": 2,
                                                "linecolor": "white",
                                                "showbackground": true,
                                                "ticks": "",
                                                "zerolinecolor": "white"
                                            },
                                            "zaxis": {
                                                "backgroundcolor": "#E5ECF6",
                                                "gridcolor": "white",
                                                "gridwidth": 2,
                                                "linecolor": "white",
                                                "showbackground": true,
                                                "ticks": "",
                                                "zerolinecolor": "white"
                                            }
                                        },
                                        "shapedefaults": {
                                            "line": {
                                                "color": "#2a3f5f"
                                            }
                                        },
                                        "ternary": {
                                            "aaxis": {
                                                "gridcolor": "white",
                                                "linecolor": "white",
                                                "ticks": ""
                                            },
                                            "baxis": {
                                                "gridcolor": "white",
                                                "linecolor": "white",
                                                "ticks": ""
                                            },
                                            "bgcolor": "#E5ECF6",
                                            "caxis": {
                                                "gridcolor": "white",
                                                "linecolor": "white",
                                                "ticks": ""
                                            }
                                        },
                                        "title": {
                                            "x": 0.05
                                        },
                                        "xaxis": {
                                            "automargin": true,
                                            "gridcolor": "white",
                                            "linecolor": "white",
                                            "ticks": "",
                                            "title": {
                                                "standoff": 15
                                            },
                                            "zerolinecolor": "white",
                                            "zerolinewidth": 2
                                        },
                                        "yaxis": {
                                            "automargin": true,
                                            "gridcolor": "white",
                                            "linecolor": "white",
                                            "ticks": "",
                                            "title": {
                                                "standoff": 15
                                            },
                                            "zerolinecolor": "white",
                                            "zerolinewidth": 2
                                        }
                                    }
                                },
                                "title": {
                                    "text": "Confirmed Cases as of March 28, 2020",
                                    "x": 0.5
                                }
                            }
                        },
                        "text/html": "<div>\n        \n        \n            <div id=\"009cb863-5f72-45b9-9d7e-55b56a610c47\" class=\"plotly-graph-div\" style=\"height:525px; width:100%;\"></div>\n            <script type=\"text/javascript\">\n                require([\"plotly\"], function(Plotly) {\n                    window.PLOTLYENV=window.PLOTLYENV || {};\n                    \n                if (document.getElementById(\"009cb863-5f72-45b9-9d7e-55b56a610c47\")) {\n                    Plotly.newPlot(\n                        '009cb863-5f72-45b9-9d7e-55b56a610c47',\n                        [{\"colorscale\": [[0.0, \"rgb(255,245,240)\"], [0.125, \"rgb(254,224,210)\"], [0.25, \"rgb(252,187,161)\"], [0.375, \"rgb(252,146,114)\"], [0.5, \"rgb(251,106,74)\"], [0.625, \"rgb(239,59,44)\"], [0.75, \"rgb(203,24,29)\"], [0.875, \"rgb(165,15,21)\"], [1.0, \"rgb(103,0,13)\"]], \"locationmode\": \"country names\", \"locations\": [\"Ecuador\", \"New Zealand\", \"Namibia\", \"South Africa\", \"Dominica\", \"Djibouti\", \"Sweden\", \"Diamond Princess\", \"Nepal\", \"Denmark\", \"Uganda\", \"Czech Republic\", \"Netherlands\", \"Somalia\", \"Cyprus\", \"Cuba\", \"Mozambique\", \"Nicaragua\", \"Croatia\", \"Costa Rica\", \"Niger\", \"Ukraine\", \"Congo (Kinshasa)\", \"Nigeria\", \"Congo (Brazzaville)\", \"Comoros\", \"Algeria\", \"Colombia\", \"Zambia\", \"North Macedonia\", \"Dominican Republic\", \"Angola\", \"Malta\", \"South Korea\", \"Tunisia\", \"Gambia\", \"Mauritania\", \"Gabon\", \"Mauritius\", \"South Sudan\", \"France\", \"Turkey\", \"Mexico\", \"Finland\", \"Fiji\", \"Moldova\", \"Albania\", \"UK\", \"US\", \"Ethiopia\", \"Monaco\", \"Eswatini\", \"Estonia\", \"Mongolia\", \"Eritrea\", \"Montenegro\", \"Equatorial Guinea\", \"El Salvador\", \"Morocco\", \"Egypt\", \"Senegal\", \"Sao Tome and Principe\", \"Slovenia\", \"Chile\", \"Chad\", \"Bahrain\", \"Andorra\", \"Benin\", \"Belize\", \"Portugal\", \"Belgium\", \"Belarus\", \"Qatar\", \"Seychelles\", \"Vietnam\", \"Barbados\", \"Bangladesh\", \"Romania\", \"Serbia\", \"Bahamas\", \"Norway\", \"Russia\", \"Azerbaijan\", \"West Bank and Gaza\", \"Austria\", \"Rwanda\", \"Australia\", \"Western Sahara\", \"Saint Kitts and Nevis\", \"Yemen\", \"Armenia\", \"Saint Lucia\", \"Argentina\", \"Antigua and Barbuda\", \"Venezuela\", \"Poland\", \"Bhutan\", \"Sierra Leone\", \"Central African Republic\", \"Canada\", \"Oman\", \"United Arab Emirates\", \"Slovakia\", \"Cameroon\", \"Cambodia\", \"Pakistan\", \"San Marino\", \"Uruguay\", \"Cabo Verde\", \"Panama\", \"Burundi\", \"Burma\", \"Burkina Faso\", \"Papua New Guinea\", \"Bulgaria\", \"Paraguay\", \"Uzbekistan\", \"Brunei\", \"Peru\", \"Singapore\", \"Brazil\", \"Botswana\", \"Bosnia and Herzegovina\", \"Bolivia\", \"Philippines\", \"Georgia\", \"Saint Vincent and the Grenadines\", \"Ivory Coast\", \"Saudi Arabia\", \"Lebanon\", \"Macau\", \"Honduras\", \"Italy\", \"Afghanistan\", \"Syria\", \"Madagascar\", \"Sri Lanka\", \"Holy See\", \"Haiti\", \"Latvia\", \"Guyana\", \"Mainland China\", \"Guinea-Bissau\", \"Jamaica\", \"Guinea\", \"Switzerland\", \"Malawi\", \"Japan\", \"Timor-Leste\", \"Lesotho\", \"Israel\", \"Ireland\", \"Suriname\", \"Liechtenstein\", \"Tanzania\", \"Indonesia\", \"Iraq\", \"Libya\", \"Lithuania\", \"India\", \"Luxembourg\", \"Hong Kong\", \"Thailand\", \"Tajikistan\", \"Iceland\", \"Taiwan\", \"MS Zaandam\", \"Sudan\", \"Liberia\", \"Hungary\", \"Spain\", \"Iran\", \"Greece\", \"Togo\", \"Germany\", \"Kenya\", \"Jordan\", \"Guatemala\", \"Malaysia\", \"Kosovo\", \"Mali\", \"Kyrgyzstan\", \"Ghana\", \"Grenada\", \"Kuwait\", \"Laos\", \"Maldives\", \"Trinidad and Tobago\", \"Kazakhstan\", \"Zimbabwe\", \"Others\", \"Martinique\", \"Bahamas, The\", \"Gambia, The\", \"Mayotte\", \"Guadeloupe\", \"French Guiana\", \"East Timor\", \"Cape Verde\", \"Reunion\", \"Aruba\", \"Curacao\", \"Cayman Islands\", \"('St. Martin',)\", \"Gibraltar\", \"Faroe Islands\", \"Channel Islands\", \"Saint Barthelemy\", \"Vatican City\", \"St. Martin\", \"Palestine\", \"Republic of Ireland\", \" Azerbaijan\", \"North Ireland\"], \"marker\": {\"line\": {\"color\": \"black\", \"width\": 0.5}}, \"type\": \"choropleth\", \"z\": [32763.0, 1499.0, 16.0, 14355.0, 16.0, 1331.0, 29677.0, 712.0, 291.0, 11056.0, 227.0, 8455.0, 44070.0, 1357.0, 914.0, 1862.0, 129.0, 25.0, 2224.0, 853.0, 889.0, 17858.0, 1455.0, 5621.0, 391.0, 11.0, 6821.0, 14939.0, 679.0, 1762.0, 12110.0, 48.0, 546.0, 11050.0, 1037.0, 23.0, 40.0, 1320.0, 332.0, 236.0, 179630.0, 148067.0, 47144.0, 6286.0, 18.0, 5934.0, 933.0, 241461.0, 1467820.0, 306.0, 96.0, 202.0, 1770.0, 135.0, 39.0, 324.0, 594.0, 1265.0, 6741.0, 11719.0, 2429.0, 235.0, 1465.0, 41428.0, 474.0, 6747.0, 761.0, 339.0, 18.0, 28810.0, 54989.0, 28681.0, 30972.0, 11.0, 318.0, 86.0, 20995.0, 16704.0, 10496.0, 96.0, 8237.0, 272043.0, 3138.0, 376.0, 16201.0, 289.0, 7044.0, 6.0, 15.0, 122.0, 4283.0, 18.0, 7805.0, 25.0, 504.0, 18257.0, 21.0, 462.0, 327.0, 77206.0, 5029.0, 22627.0, 1493.0, 3105.0, 122.0, 38799.0, 653.0, 733.0, 328.0, 9449.0, 15.0, 182.0, 782.0, 8.0, 2175.0, 778.0, 2738.0, 141.0, 88541.0, 27356.0, 233511.0, 24.0, 2267.0, 3826.0, 12305.0, 683.0, 17.0, 2061.0, 52016.0, 902.0, 45.0, 2565.0, 224760.0, 6402.0, 51.0, 283.0, 960.0, 12.0, 358.0, 997.0, 117.0, 82947.0, 969.0, 517.0, 2658.0, 30572.0, 65.0, 16237.0, 24.0, 1.0, 16608.0, 24048.0, 10.0, 82.0, 509.0, 17025.0, 3260.0, 65.0, 1534.0, 90648.0, 3930.0, 1052.0, 3025.0, 1322.0, 1802.0, 440.0, 9.0, 2289.0, 223.0, 3473.0, 230698.0, 118392.0, 2819.0, 298.0, 175752.0, 830.0, 607.0, 1763.0, 6872.0, 944.0, 835.0, 1117.0, 5735.0, 22.0, 13802.0, 19.0, 1078.0, 116.0, 5850.0, 42.0, 712.0, 32.0, 4.0, 1.0, 7.0, 53.0, 18.0, 1.0, 1.0, 45.0, 4.0, 1.0, 1.0, 2.0, 1.0, 2.0, 1.0, 1.0, 1.0, 2.0, 22.0, 21.0, 1.0, 1.0]}],\n                        {\"geo\": {\"projection\": {\"type\": \"equirectangular\"}, \"showcoastlines\": false, \"showframe\": false}, \"template\": {\"data\": {\"bar\": [{\"error_x\": {\"color\": \"#2a3f5f\"}, \"error_y\": {\"color\": \"#2a3f5f\"}, \"marker\": {\"line\": {\"color\": \"#E5ECF6\", \"width\": 0.5}}, \"type\": \"bar\"}], \"barpolar\": [{\"marker\": {\"line\": {\"color\": \"#E5ECF6\", \"width\": 0.5}}, \"type\": \"barpolar\"}], \"carpet\": [{\"aaxis\": {\"endlinecolor\": \"#2a3f5f\", \"gridcolor\": \"white\", \"linecolor\": \"white\", \"minorgridcolor\": \"white\", \"startlinecolor\": \"#2a3f5f\"}, \"baxis\": {\"endlinecolor\": \"#2a3f5f\", \"gridcolor\": \"white\", \"linecolor\": \"white\", \"minorgridcolor\": \"white\", \"startlinecolor\": \"#2a3f5f\"}, \"type\": \"carpet\"}], \"choropleth\": [{\"colorbar\": {\"outlinewidth\": 0, \"ticks\": \"\"}, \"type\": \"choropleth\"}], \"contour\": [{\"colorbar\": {\"outlinewidth\": 0, \"ticks\": \"\"}, \"colorscale\": [[0.0, \"#0d0887\"], [0.1111111111111111, \"#46039f\"], [0.2222222222222222, \"#7201a8\"], [0.3333333333333333, \"#9c179e\"], [0.4444444444444444, \"#bd3786\"], [0.5555555555555556, \"#d8576b\"], [0.6666666666666666, \"#ed7953\"], [0.7777777777777778, \"#fb9f3a\"], [0.8888888888888888, \"#fdca26\"], [1.0, \"#f0f921\"]], \"type\": \"contour\"}], \"contourcarpet\": [{\"colorbar\": {\"outlinewidth\": 0, \"ticks\": \"\"}, \"type\": \"contourcarpet\"}], \"heatmap\": [{\"colorbar\": {\"outlinewidth\": 0, \"ticks\": \"\"}, \"colorscale\": [[0.0, \"#0d0887\"], [0.1111111111111111, \"#46039f\"], [0.2222222222222222, \"#7201a8\"], [0.3333333333333333, \"#9c179e\"], [0.4444444444444444, \"#bd3786\"], [0.5555555555555556, \"#d8576b\"], [0.6666666666666666, \"#ed7953\"], [0.7777777777777778, \"#fb9f3a\"], [0.8888888888888888, \"#fdca26\"], [1.0, \"#f0f921\"]], \"type\": \"heatmap\"}], \"heatmapgl\": [{\"colorbar\": {\"outlinewidth\": 0, \"ticks\": \"\"}, \"colorscale\": [[0.0, \"#0d0887\"], [0.1111111111111111, \"#46039f\"], [0.2222222222222222, \"#7201a8\"], [0.3333333333333333, \"#9c179e\"], [0.4444444444444444, \"#bd3786\"], [0.5555555555555556, \"#d8576b\"], [0.6666666666666666, \"#ed7953\"], [0.7777777777777778, \"#fb9f3a\"], [0.8888888888888888, \"#fdca26\"], [1.0, \"#f0f921\"]], \"type\": \"heatmapgl\"}], \"histogram\": [{\"marker\": {\"colorbar\": {\"outlinewidth\": 0, \"ticks\": \"\"}}, \"type\": \"histogram\"}], \"histogram2d\": [{\"colorbar\": {\"outlinewidth\": 0, \"ticks\": \"\"}, \"colorscale\": [[0.0, \"#0d0887\"], [0.1111111111111111, \"#46039f\"], [0.2222222222222222, \"#7201a8\"], [0.3333333333333333, \"#9c179e\"], [0.4444444444444444, \"#bd3786\"], [0.5555555555555556, \"#d8576b\"], [0.6666666666666666, \"#ed7953\"], [0.7777777777777778, \"#fb9f3a\"], [0.8888888888888888, \"#fdca26\"], [1.0, \"#f0f921\"]], \"type\": \"histogram2d\"}], \"histogram2dcontour\": [{\"colorbar\": {\"outlinewidth\": 0, \"ticks\": \"\"}, \"colorscale\": [[0.0, \"#0d0887\"], [0.1111111111111111, \"#46039f\"], [0.2222222222222222, \"#7201a8\"], [0.3333333333333333, \"#9c179e\"], [0.4444444444444444, \"#bd3786\"], [0.5555555555555556, \"#d8576b\"], [0.6666666666666666, \"#ed7953\"], [0.7777777777777778, \"#fb9f3a\"], [0.8888888888888888, \"#fdca26\"], [1.0, \"#f0f921\"]], \"type\": \"histogram2dcontour\"}], \"mesh3d\": [{\"colorbar\": {\"outlinewidth\": 0, \"ticks\": \"\"}, \"type\": \"mesh3d\"}], \"parcoords\": [{\"line\": {\"colorbar\": {\"outlinewidth\": 0, \"ticks\": \"\"}}, \"type\": \"parcoords\"}], \"pie\": [{\"automargin\": true, \"type\": \"pie\"}], \"scatter\": [{\"marker\": {\"colorbar\": {\"outlinewidth\": 0, \"ticks\": \"\"}}, \"type\": \"scatter\"}], \"scatter3d\": [{\"line\": {\"colorbar\": {\"outlinewidth\": 0, \"ticks\": \"\"}}, \"marker\": {\"colorbar\": {\"outlinewidth\": 0, \"ticks\": \"\"}}, \"type\": \"scatter3d\"}], \"scattercarpet\": [{\"marker\": {\"colorbar\": {\"outlinewidth\": 0, \"ticks\": \"\"}}, \"type\": \"scattercarpet\"}], \"scattergeo\": [{\"marker\": {\"colorbar\": {\"outlinewidth\": 0, \"ticks\": \"\"}}, \"type\": \"scattergeo\"}], \"scattergl\": [{\"marker\": {\"colorbar\": {\"outlinewidth\": 0, \"ticks\": \"\"}}, \"type\": \"scattergl\"}], \"scattermapbox\": [{\"marker\": {\"colorbar\": {\"outlinewidth\": 0, \"ticks\": \"\"}}, \"type\": \"scattermapbox\"}], \"scatterpolar\": [{\"marker\": {\"colorbar\": {\"outlinewidth\": 0, \"ticks\": \"\"}}, \"type\": \"scatterpolar\"}], \"scatterpolargl\": [{\"marker\": {\"colorbar\": {\"outlinewidth\": 0, \"ticks\": \"\"}}, \"type\": \"scatterpolargl\"}], \"scatterternary\": [{\"marker\": {\"colorbar\": {\"outlinewidth\": 0, \"ticks\": \"\"}}, \"type\": \"scatterternary\"}], \"surface\": [{\"colorbar\": {\"outlinewidth\": 0, \"ticks\": \"\"}, \"colorscale\": [[0.0, \"#0d0887\"], [0.1111111111111111, \"#46039f\"], [0.2222222222222222, \"#7201a8\"], [0.3333333333333333, \"#9c179e\"], [0.4444444444444444, \"#bd3786\"], [0.5555555555555556, \"#d8576b\"], [0.6666666666666666, \"#ed7953\"], [0.7777777777777778, \"#fb9f3a\"], [0.8888888888888888, \"#fdca26\"], [1.0, \"#f0f921\"]], \"type\": \"surface\"}], \"table\": [{\"cells\": {\"fill\": {\"color\": \"#EBF0F8\"}, \"line\": {\"color\": \"white\"}}, \"header\": {\"fill\": {\"color\": \"#C8D4E3\"}, \"line\": {\"color\": \"white\"}}, \"type\": \"table\"}]}, \"layout\": {\"annotationdefaults\": {\"arrowcolor\": \"#2a3f5f\", \"arrowhead\": 0, \"arrowwidth\": 1}, \"coloraxis\": {\"colorbar\": {\"outlinewidth\": 0, \"ticks\": \"\"}}, \"colorscale\": {\"diverging\": [[0, \"#8e0152\"], [0.1, \"#c51b7d\"], [0.2, \"#de77ae\"], [0.3, \"#f1b6da\"], [0.4, \"#fde0ef\"], [0.5, \"#f7f7f7\"], [0.6, \"#e6f5d0\"], [0.7, \"#b8e186\"], [0.8, \"#7fbc41\"], [0.9, \"#4d9221\"], [1, \"#276419\"]], \"sequential\": [[0.0, \"#0d0887\"], [0.1111111111111111, \"#46039f\"], [0.2222222222222222, \"#7201a8\"], [0.3333333333333333, \"#9c179e\"], [0.4444444444444444, \"#bd3786\"], [0.5555555555555556, \"#d8576b\"], [0.6666666666666666, \"#ed7953\"], [0.7777777777777778, \"#fb9f3a\"], [0.8888888888888888, \"#fdca26\"], [1.0, \"#f0f921\"]], \"sequentialminus\": [[0.0, \"#0d0887\"], [0.1111111111111111, \"#46039f\"], [0.2222222222222222, \"#7201a8\"], [0.3333333333333333, \"#9c179e\"], [0.4444444444444444, \"#bd3786\"], [0.5555555555555556, \"#d8576b\"], [0.6666666666666666, \"#ed7953\"], [0.7777777777777778, \"#fb9f3a\"], [0.8888888888888888, \"#fdca26\"], [1.0, \"#f0f921\"]]}, \"colorway\": [\"#636efa\", \"#EF553B\", \"#00cc96\", \"#ab63fa\", \"#FFA15A\", \"#19d3f3\", \"#FF6692\", \"#B6E880\", \"#FF97FF\", \"#FECB52\"], \"font\": {\"color\": \"#2a3f5f\"}, \"geo\": {\"bgcolor\": \"white\", \"lakecolor\": \"white\", \"landcolor\": \"#E5ECF6\", \"showlakes\": true, \"showland\": true, \"subunitcolor\": \"white\"}, \"hoverlabel\": {\"align\": \"left\"}, \"hovermode\": \"closest\", \"mapbox\": {\"style\": \"light\"}, \"paper_bgcolor\": \"white\", \"plot_bgcolor\": \"#E5ECF6\", \"polar\": {\"angularaxis\": {\"gridcolor\": \"white\", \"linecolor\": \"white\", \"ticks\": \"\"}, \"bgcolor\": \"#E5ECF6\", \"radialaxis\": {\"gridcolor\": \"white\", \"linecolor\": \"white\", \"ticks\": \"\"}}, \"scene\": {\"xaxis\": {\"backgroundcolor\": \"#E5ECF6\", \"gridcolor\": \"white\", \"gridwidth\": 2, \"linecolor\": \"white\", \"showbackground\": true, \"ticks\": \"\", \"zerolinecolor\": \"white\"}, \"yaxis\": {\"backgroundcolor\": \"#E5ECF6\", \"gridcolor\": \"white\", \"gridwidth\": 2, \"linecolor\": \"white\", \"showbackground\": true, \"ticks\": \"\", \"zerolinecolor\": \"white\"}, \"zaxis\": {\"backgroundcolor\": \"#E5ECF6\", \"gridcolor\": \"white\", \"gridwidth\": 2, \"linecolor\": \"white\", \"showbackground\": true, \"ticks\": \"\", \"zerolinecolor\": \"white\"}}, \"shapedefaults\": {\"line\": {\"color\": \"#2a3f5f\"}}, \"ternary\": {\"aaxis\": {\"gridcolor\": \"white\", \"linecolor\": \"white\", \"ticks\": \"\"}, \"baxis\": {\"gridcolor\": \"white\", \"linecolor\": \"white\", \"ticks\": \"\"}, \"bgcolor\": \"#E5ECF6\", \"caxis\": {\"gridcolor\": \"white\", \"linecolor\": \"white\", \"ticks\": \"\"}}, \"title\": {\"x\": 0.05}, \"xaxis\": {\"automargin\": true, \"gridcolor\": \"white\", \"linecolor\": \"white\", \"ticks\": \"\", \"title\": {\"standoff\": 15}, \"zerolinecolor\": \"white\", \"zerolinewidth\": 2}, \"yaxis\": {\"automargin\": true, \"gridcolor\": \"white\", \"linecolor\": \"white\", \"ticks\": \"\", \"title\": {\"standoff\": 15}, \"zerolinecolor\": \"white\", \"zerolinewidth\": 2}}}, \"title\": {\"text\": \"Confirmed Cases as of March 28, 2020\", \"x\": 0.5}},\n                        {\"responsive\": true}\n                    ).then(function(){\n                            \nvar gd = document.getElementById('009cb863-5f72-45b9-9d7e-55b56a610c47');\nvar x = new MutationObserver(function (mutations, observer) {{\n        var display = window.getComputedStyle(gd).display;\n        if (!display || display === 'none') {{\n            console.log([gd, 'removed!']);\n            Plotly.purge(gd);\n            observer.disconnect();\n        }}\n}});\n\n// Listen for the removal of the full notebook cells\nvar notebookContainer = gd.closest('#notebook-container');\nif (notebookContainer) {{\n    x.observe(notebookContainer, {childList: true});\n}}\n\n// Listen for the clearing of the current output cell\nvar outputEl = gd.closest('.output');\nif (outputEl) {{\n    x.observe(outputEl, {childList: true});\n}}\n\n                        })\n                };\n                });\n            </script>\n        </div>"
                    },
                    "metadata": {}
                }
            ]
        }
    ],
    "metadata": {
        "kernelspec": {
            "name": "python3",
            "display_name": "Python 3.6",
            "language": "python"
        },
        "language_info": {
            "name": "python",
            "version": "3.6.9",
            "mimetype": "text/x-python",
            "codemirror_mode": {
                "name": "ipython",
                "version": 3
            },
            "pygments_lexer": "ipython3",
            "nbconvert_exporter": "python",
            "file_extension": ".py"
        }
    },
    "nbformat": 4,
    "nbformat_minor": 1
}